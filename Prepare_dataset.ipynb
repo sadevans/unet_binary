{
 "cells": [
  {
   "cell_type": "code",
   "execution_count": 1,
   "id": "10040941",
   "metadata": {},
   "outputs": [],
   "source": [
    "import torch\n",
    "import torchvision\n",
    "import numpy as np\n",
    "import matplotlib.pyplot as plt\n",
    "from tqdm import tqdm\n",
    "import cv2\n",
    "import numpy as np\n",
    "from shutil import copyfile\n",
    "from torch.utils.data import Dataset, DataLoader\n",
    "from torchvision import transforms\n",
    "from torch.nn import functional as F\n",
    "from torchvision.transforms import ToTensor\n",
    "\n",
    "import os\n",
    "import shutil\n",
    "# Ignore warnings\n",
    "# import warnings\n",
    "# warnings.filterwarnings(\"ignore\")"
   ]
  },
  {
   "cell_type": "code",
   "execution_count": 2,
   "id": "80ca88b8",
   "metadata": {},
   "outputs": [
    {
     "name": "stdout",
     "output_type": "stream",
     "text": [
      "\u001b[01;34mdata\u001b[00m\n",
      "├── \u001b[01;34mb2u_g123_second\u001b[00m\n",
      "├── \u001b[01;34mb2u_g123_second_mask\u001b[00m\n",
      "├── \u001b[01;34mb2u_g209_stride200\u001b[00m\n",
      "├── \u001b[01;34mb2u_g209_stride200_mask\u001b[00m\n",
      "├── \u001b[01;34mb2u_g210_stride200\u001b[00m\n",
      "├── \u001b[01;34mb2u_g210_stride200_mask\u001b[00m\n",
      "├── \u001b[01;34mb2u_g46_second\u001b[00m\n",
      "├── \u001b[01;34mb2u_g46_second_mask\u001b[00m\n",
      "├── \u001b[01;34mG-123\u001b[00m\n",
      "├── \u001b[01;34mG-209_Helios\u001b[00m\n",
      "│   └── \u001b[01;34mTile Set\u001b[00m\n",
      "│       └── \u001b[01;34mProcessed\u001b[00m\n",
      "├── \u001b[01;34mG-210_Helios\u001b[00m\n",
      "│   └── \u001b[01;34mLayersData\u001b[00m\n",
      "│       └── \u001b[01;34mLayer\u001b[00m\n",
      "│           └── \u001b[01;34mTile Set\u001b[00m\n",
      "│               └── \u001b[01;34mProcessed\u001b[00m\n",
      "├── \u001b[01;34mG46\u001b[00m\n",
      "├── \u001b[01;34mtest\u001b[00m\n",
      "│   ├── \u001b[01;34mimg\u001b[00m\n",
      "│   ├── \u001b[01;34mmask\u001b[00m\n",
      "│   └── \u001b[01;34mnoisy_img\u001b[00m\n",
      "└── \u001b[01;34mtrain\u001b[00m\n",
      "    ├── \u001b[01;34mimg\u001b[00m\n",
      "    ├── \u001b[01;34mmask\u001b[00m\n",
      "    └── \u001b[01;34mnoisy_img\u001b[00m\n",
      "\n",
      "26 directories\n"
     ]
    }
   ],
   "source": [
    "!tree -d data"
   ]
  },
  {
   "cell_type": "code",
   "execution_count": 11,
   "id": "2e56b015",
   "metadata": {},
   "outputs": [],
   "source": [
    "source_files_dir = './data/G-210_Helios'\n",
    "dest_files_dir = './data/train/noisy_img'\n",
    "prefix = 'G210_'\n",
    "\n",
    "s_filenames = os.listdir(source_files_dir)"
   ]
  },
  {
   "cell_type": "code",
   "execution_count": 12,
   "id": "085e12a6",
   "metadata": {},
   "outputs": [],
   "source": [
    "for file in s_filenames:\n",
    "    sorce = os.path.join(source_files_dir, file)\n",
    "    dst = os.path.join(dest_files_dir, prefix + file)\n",
    "    shutil.copyfile(sorce, dst)\n",
    "    \n",
    "    "
   ]
  },
  {
   "cell_type": "code",
   "execution_count": null,
   "id": "d0bd8bba",
   "metadata": {},
   "outputs": [],
   "source": []
  }
 ],
 "metadata": {
  "kernelspec": {
   "display_name": "Python 3.8.10 ('.venv': venv)",
   "language": "python",
   "name": "python3"
  },
  "language_info": {
   "codemirror_mode": {
    "name": "ipython",
    "version": 3
   },
   "file_extension": ".py",
   "mimetype": "text/x-python",
   "name": "python",
   "nbconvert_exporter": "python",
   "pygments_lexer": "ipython3",
   "version": "3.8.10"
  },
  "vscode": {
   "interpreter": {
    "hash": "58d6b1141541631ed96e8900761f97b6c95d7894d01588129650b3e4116557f7"
   }
  }
 },
 "nbformat": 4,
 "nbformat_minor": 5
}
