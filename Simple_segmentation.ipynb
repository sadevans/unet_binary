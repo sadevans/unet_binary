{
 "cells": [
  {
   "cell_type": "code",
   "execution_count": 1,
   "id": "f64817ab",
   "metadata": {},
   "outputs": [],
   "source": [
    "import torch\n",
    "import torch.nn as nn\n",
    "import torchvision\n",
    "import numpy as np\n",
    "import matplotlib.pyplot as plt\n",
    "from tqdm import tqdm\n",
    "import cv2\n",
    "import numpy as np\n",
    "from shutil import copyfile\n",
    "from torch.utils.data import Dataset, DataLoader\n",
    "from torchvision import transforms\n",
    "from torch.nn import functional as F\n",
    "from torchvision.transforms import ToTensor\n",
    "import albumentations as A\n",
    "import pickle\n",
    "import datetime\n",
    "\n",
    "import os\n",
    "import shutil\n",
    "# Ignore warnings\n",
    "# import warnings\n",
    "# warnings.filterwarnings(\"ignore\")"
   ]
  },
  {
   "cell_type": "code",
   "execution_count": 2,
   "id": "c2c14221",
   "metadata": {
    "scrolled": true
   },
   "outputs": [
    {
     "name": "stdout",
     "output_type": "stream",
     "text": [
      "\u001b[01;34mdata\u001b[00m\n",
      "├── \u001b[01;34mb2u_g123_second\u001b[00m\n",
      "├── \u001b[01;34mb2u_g123_second_mask\u001b[00m\n",
      "├── \u001b[01;34mb2u_g209_stride200\u001b[00m\n",
      "├── \u001b[01;34mb2u_g209_stride200_mask\u001b[00m\n",
      "├── \u001b[01;34mb2u_g210_stride200\u001b[00m\n",
      "├── \u001b[01;34mb2u_g210_stride200_mask\u001b[00m\n",
      "├── \u001b[01;34mb2u_g46_second\u001b[00m\n",
      "├── \u001b[01;34mb2u_g46_second_mask\u001b[00m\n",
      "├── \u001b[01;34mG-123\u001b[00m\n",
      "├── \u001b[01;34mG-209_Helios\u001b[00m\n",
      "├── \u001b[01;34mG-210_Helios\u001b[00m\n",
      "├── \u001b[01;34mG46\u001b[00m\n",
      "├── \u001b[01;34mtest\u001b[00m\n",
      "│   ├── \u001b[01;34mimg\u001b[00m\n",
      "│   ├── \u001b[01;34mmask\u001b[00m\n",
      "│   └── \u001b[01;34mnoisy_img\u001b[00m\n",
      "└── \u001b[01;34mtrain\u001b[00m\n",
      "    ├── \u001b[01;34mimg\u001b[00m\n",
      "    ├── \u001b[01;34mmask\u001b[00m\n",
      "    └── \u001b[01;34mnoisy_img\u001b[00m\n",
      "\n",
      "20 directories\n"
     ]
    }
   ],
   "source": [
    "!tree -d data"
   ]
  },
  {
   "cell_type": "code",
   "execution_count": 3,
   "id": "2d0785cf",
   "metadata": {},
   "outputs": [
    {
     "data": {
      "text/plain": [
       "device(type='cuda', index=0)"
      ]
     },
     "execution_count": 3,
     "metadata": {},
     "output_type": "execute_result"
    }
   ],
   "source": [
    "torch.random.manual_seed(42)\n",
    "device = torch.device('cuda:0' if torch.cuda.is_available() else 'cpu')\n",
    "device"
   ]
  },
  {
   "cell_type": "code",
   "execution_count": 4,
   "id": "992094be",
   "metadata": {},
   "outputs": [],
   "source": [
    "#Dataset\n",
    "\n",
    "class Microscopy(Dataset):\n",
    "    def __init__(self, img_path, label_path,  n_class,img_channels=1, transform=None, crop_size=(768, 1024), crop_position = None ):\n",
    "        self.img_path = img_path\n",
    "        self.label_path = label_path\n",
    "        self.img_channels = img_channels\n",
    "        self.transform = transform\n",
    "        self.n_class = n_class\n",
    "        self.files = []\n",
    "        self.to_tensor = ToTensor()\n",
    "        self.crop_size = crop_size\n",
    "        self.crop_position = crop_position\n",
    "        self.preprocess()\n",
    "\n",
    "    def preprocess(self):\n",
    "        \n",
    "        img_filenames = os.listdir(self.img_path)\n",
    "        \n",
    "        for img_file in img_filenames:\n",
    "            img_path = os.path.join(self.img_path, img_file.split('.')[0])\n",
    "            label_path = os.path.join(self.label_path, img_file.split('.')[0])\n",
    "            # for check\n",
    "            \n",
    "\n",
    "            if os.path.isfile(img_path + '.tif' ) == False or os.path.isfile(label_path  + '.png') == False:\n",
    "                raise Exception(f\"There are not a file or no couple for img {img_file}\")\n",
    "        \n",
    "            self.files.append([img_path + '.tif', label_path  + '.png'])\n",
    "        print('Finished preprocessing the Microscopy dataset')\n",
    "        \n",
    "\n",
    "    def __getitem__(self, index):\n",
    "        \n",
    "        img_path, label_path = self.files[index]\n",
    "        \n",
    "        if self.img_channels == 1:\n",
    "            image = cv2.imread(img_path, 0)\n",
    "        else:\n",
    "            image = cv2.imread(img_path, 3)\n",
    "        mask = cv2.imread(label_path, 0 )\n",
    "#         mask[mask == 255] = 1\n",
    "        mask.astype(np.bool_).astype(np.uint8)\n",
    "        if self.crop_position is not None:\n",
    "            c_pos = self.crop_position\n",
    "        else:\n",
    "            if self.img_channels == 1:\n",
    "                c_pos = (np.random.randint(0,image.shape[0] - self.crop_size[0]),\n",
    "                          np.random.randint(0,image.shape[1] - self.crop_size[1]))\n",
    "            else:\n",
    "                c_pos = (np.random.randint(0,image.shape[0] - self.crop_size[0]),\n",
    "                          np.random.randint(0,image.shape[1] - self.crop_size[1]))\n",
    "            \n",
    "        if self.img_channels == 1:\n",
    "            image = image[c_pos[0]:c_pos[0] + self.crop_size[0], c_pos[1]:c_pos[1] + self.crop_size[1]]\n",
    "        else:\n",
    "            image = image[c_pos[0]:c_pos[0] + self.crop_size[0], c_pos[1]:c_pos[1] + self.crop_size[1],:]\n",
    "        mask = mask[c_pos[0]:c_pos[0] + self.crop_size[0], c_pos[1]:c_pos[1] + self.crop_size[1]]\n",
    "        \n",
    "        if self.transform is not None:\n",
    "            transformed = self.transform(image=np.asarray(image), mask=np.asarray(mask))\n",
    "\n",
    "            image = transformed['image']\n",
    "            mask = transformed['mask']\n",
    "        \n",
    "        \n",
    "        image = self.to_tensor(image.copy())\n",
    "        mask = self.to_tensor(mask.copy()).squeeze()\n",
    "        mask = F.one_hot(mask.long(), self.n_class + 0).permute(2,0,1)\n",
    "        \n",
    "        \n",
    "#         if mask.shape[0] < self.n_class:\n",
    "#             n_zeros = self.n_class - mask.shape[0]\n",
    "#             mask = torch.cat((mask, torch.zeros((n_zeros, mask.shape[1],mask.shape[2]))),dim=0)\n",
    "        \n",
    "        return image, mask\n",
    "\n",
    "    def __len__(self):\n",
    "        \"\"\"Return the number of images.\"\"\"\n",
    "        return len(self.files)"
   ]
  },
  {
   "cell_type": "code",
   "execution_count": 5,
   "id": "b1736d4a",
   "metadata": {},
   "outputs": [
    {
     "name": "stdout",
     "output_type": "stream",
     "text": [
      "Finished preprocessing the Microscopy dataset\n",
      "Finished preprocessing the Microscopy dataset\n",
      "Train size 1057\n",
      "Test size 55\n"
     ]
    }
   ],
   "source": [
    "#batch_size = 1\n",
    "batch_size = 2\n",
    "# im_size = (384,512)\n",
    "im_size = (768,1024)\n",
    "num_workers = 3\n",
    "# im_size = (128,128)\n",
    "#im_size = (256,256)\n",
    "label_list = ['holes', 'surface']\n",
    "\n",
    "train_transform = A.Compose([\n",
    "    A.Resize(*im_size),\n",
    "    A.Rotate(),\n",
    "    A.HorizontalFlip(),\n",
    "    A.VerticalFlip(),\n",
    "])\n",
    "   \n",
    "train_img_path = 'data/train/noisy_img'\n",
    "train_label_path = 'data/train/mask'\n",
    "train_set = Microscopy(train_img_path, train_label_path, n_class=len(label_list), transform=train_transform,\n",
    "                       crop_size=(768, 1024), crop_position = None)\n",
    "\n",
    "train_loader = torch.utils.data.DataLoader(train_set, shuffle=True, batch_size=batch_size, num_workers=num_workers)\n",
    "\n",
    "test_transform = A.Compose([\n",
    "    A.Resize(*im_size),\n",
    "])\n",
    "\n",
    "   \n",
    "test_img_path = 'data/test/noisy_img'\n",
    "test_label_path = 'data/test/mask'\n",
    "test_set = Microscopy(test_img_path, test_label_path, n_class=len(label_list), transform=test_transform,\n",
    "                       crop_size=(768, 1024), crop_position = (1000,1000))\n",
    "test_loader = torch.utils.data.DataLoader(test_set, shuffle=True, batch_size=batch_size, num_workers=num_workers)\n",
    "\n",
    "print('Train size', len(train_set))\n",
    "print('Test size', len(test_set))\n"
   ]
  },
  {
   "cell_type": "code",
   "execution_count": 6,
   "id": "79c73c97",
   "metadata": {},
   "outputs": [
    {
     "data": {
      "image/png": "[encoded data removed]",
      "text/plain": [
       "<Figure size 500x1000 with 2 Axes>"
      ]
     },
     "metadata": {},
     "output_type": "display_data"
    }
   ],
   "source": [
    "def plot_img(loader,ind):\n",
    "    size = 10\n",
    "    dataset = loader.dataset\n",
    "    fig, ax = plt.subplots(1,2,figsize=(size/2,size))\n",
    "    ax[0].axis('off')\n",
    "    ax[1].axis('off')\n",
    "\n",
    "    img, mask = dataset[ind]#[0][:,:,:]\n",
    "    #mask = dataset[ind][1][:,:,:]\n",
    "    \n",
    "    ax[0].set_title(f'image shape {tuple(img.shape)}', fontsize = 8)\n",
    "    ax[1].set_title(f'label shape {tuple(mask.shape)}', fontsize = 8)\n",
    "    ax[0].imshow(img.permute(1,2,0))\n",
    "    preds = torch.argmax(mask, dim=0)[None,:,:]\n",
    "    ax[1].imshow(preds.permute(1,2,0), cmap='gray')\n",
    "plot_img(test_loader,2)   "
   ]
  },
  {
   "cell_type": "code",
   "execution_count": 7,
   "id": "578fe8bd",
   "metadata": {},
   "outputs": [],
   "source": [
    "def iou_dice_score(preds,target_mask,n_classes,delta = 1e-7):\n",
    "    preds = torch.argmax(preds, dim=1)\n",
    "    preds_mask = F.one_hot(preds, n_classes).permute(0,3,1,2)\n",
    "    \n",
    "    logical_and = torch.logical_and(preds_mask, target_mask)\n",
    "    logical_or = torch.logical_or(preds_mask, target_mask)\n",
    "    \n",
    "    overlap = torch.sum(logical_and, dim =(2,3))\n",
    "    union = torch.sum(logical_or, dim =(2,3))\n",
    "    \n",
    "    \n",
    "    sum_of_areas = torch.sum(preds_mask, dim =(2,3)) + torch.sum(target_mask, dim =(0,2,3))\n",
    "    \n",
    "    iou_array = overlap/(union + delta)\n",
    "    \n",
    "    dice_array = 2*overlap/(sum_of_areas + delta)\n",
    "    \n",
    "    return iou_array, dice_array"
   ]
  },
  {
   "cell_type": "code",
   "execution_count": 8,
   "id": "9c806372",
   "metadata": {},
   "outputs": [],
   "source": [
    "class Encoder_Block(torch.nn.Module):\n",
    "    def __init__(self, inp_channels, out_channels):\n",
    "        super().__init__()\n",
    "        self.model = torch.nn.Sequential(\n",
    "            torch.nn.Conv2d(inp_channels,out_channels,kernel_size=3,padding=1),\n",
    "            torch.nn.BatchNorm2d(out_channels),\n",
    "            torch.nn.ReLU(),\n",
    "            torch.nn.Conv2d(out_channels,out_channels,kernel_size=3,padding=1),\n",
    "            torch.nn.BatchNorm2d(out_channels),\n",
    "            torch.nn.ReLU(),\n",
    "        )\n",
    "        self.pooling = torch.nn.MaxPool2d(2)\n",
    "    def forward(self,x):\n",
    "        int_out = self.model(x)\n",
    "        return self.pooling(int_out), int_out\n",
    "\n",
    "class Decoder_Block(torch.nn.Module):\n",
    "    def __init__(self,inp_channels,out_channels):\n",
    "        super().__init__()\n",
    "        self.upsample = torch.nn.ConvTranspose2d(inp_channels,out_channels,kernel_size=2,stride=2)\n",
    "        self.model = torch.nn.Sequential(\n",
    "            torch.nn.Conv2d(inp_channels,out_channels,kernel_size=3,padding=1),\n",
    "            torch.nn.BatchNorm2d(out_channels),\n",
    "            torch.nn.ReLU(),\n",
    "            torch.nn.Conv2d(out_channels,out_channels,kernel_size=3,padding=1),\n",
    "            torch.nn.BatchNorm2d(out_channels),\n",
    "            torch.nn.ReLU(),\n",
    "        )\n",
    "    def forward(self,x,enc_x):\n",
    "        x = self.upsample(x)\n",
    "        x = torch.cat([x,enc_x],dim=1)\n",
    "        return self.model(x)\n",
    "    \n",
    "class Unet(torch.nn.Module):\n",
    "    def __init__(self,inc,outc,hidden_size=64):\n",
    "        super().__init__()\n",
    "        self.Encoder = torch.nn.ModuleList([\n",
    "            Encoder_Block(inc,hidden_size),\n",
    "            Encoder_Block(hidden_size,hidden_size*2),\n",
    "            Encoder_Block(hidden_size*2,hidden_size*4),\n",
    "            Encoder_Block(hidden_size*4,hidden_size*8),\n",
    "        ])\n",
    "        self.bottleneck = torch.nn.Sequential(\n",
    "            torch.nn.Conv2d(hidden_size*8,hidden_size*16,kernel_size=1),\n",
    "            torch.nn.BatchNorm2d(hidden_size*16),\n",
    "            torch.nn.ReLU(),\n",
    "            torch.nn.Conv2d(hidden_size*16,hidden_size*16,kernel_size=1),\n",
    "            torch.nn.BatchNorm2d(hidden_size*16),\n",
    "            torch.nn.ReLU()\n",
    "        )\n",
    "        self.Decoder = torch.nn.ModuleList([\n",
    "            Decoder_Block(hidden_size*16,hidden_size*8),\n",
    "            Decoder_Block(hidden_size*8,hidden_size*4),\n",
    "            Decoder_Block(hidden_size*4,hidden_size*2),\n",
    "            Decoder_Block(hidden_size*2,hidden_size*1),\n",
    "        ])\n",
    "        self.last_layer = torch.nn.Conv2d(hidden_size,outc,kernel_size=3,padding=\"same\")\n",
    "        \n",
    "    def forward(self,x):\n",
    "        enc_xs = []\n",
    "        for module in self.Encoder:\n",
    "            x, enc_x= module(x)\n",
    "            enc_xs.append(enc_x)\n",
    "\n",
    "        enc_xs = enc_xs[::-1]\n",
    "        x = self.bottleneck(x)\n",
    "\n",
    "        for i,module in enumerate(self.Decoder):\n",
    "            x = module(x,enc_xs[i])\n",
    "        return self.last_layer(x)   "
   ]
  },
  {
   "cell_type": "code",
   "execution_count": 9,
   "id": "807edf30",
   "metadata": {},
   "outputs": [],
   "source": [
    "def epoch_train(loader, clf, criterion, opt):\n",
    "    clf.train(True)\n",
    "    \n",
    "    for model_input, target in tqdm(loader):\n",
    "        \n",
    "        model_input = model_input.to(device)\n",
    "        target = target.to(device)\n",
    "        \n",
    "        model_output = clf(model_input)\n",
    "        \n",
    "        loss = criterion(model_output,target.to(torch.float ))\n",
    "\n",
    "        opt.zero_grad()\n",
    "        loss.backward()\n",
    "        opt.step()\n",
    "    return loss\n",
    "\n",
    "\n",
    "def epoch_test(loader, clf, criterion, n_classes):\n",
    "    clf.eval()\n",
    "        \n",
    "    iou_all = None\n",
    "    dice_all = None\n",
    "    for index, m_t in enumerate(tqdm(loader)):\n",
    "        model_input = m_t[0]\n",
    "        target = m_t[1]\n",
    "        \n",
    "        with torch.no_grad():\n",
    "            \n",
    "            model_input = model_input.to(device)\n",
    "            target = target.to(device)\n",
    "            \n",
    "            model_output = clf(model_input)\n",
    "            \n",
    "            loss = criterion(model_output,target.to(torch.float ))\n",
    "            iou, dice = iou_dice_score(model_output,target,n_classes)\n",
    "            \n",
    "            if iou_all is None:\n",
    "                iou_all = iou\n",
    "                dice_all = dice\n",
    "            else:\n",
    "                iou_all = torch.cat((iou_all, iou),dim=0)\n",
    "                dice_all = torch.cat((dice_all, dice),dim=0)\n",
    "                \n",
    "    iou_mean = iou_all.mean(dim=0)\n",
    "    dice_mean = dice_all.mean(dim=0)\n",
    "\n",
    "    return iou_mean, dice_mean\n",
    "\n",
    "# The function which you are going to use for model training\n",
    "def train(train_loader, test_loader, clf,n_classes, criterion, opt, n_epochs=10):\n",
    "    now = datetime.datetime.now()\n",
    "    os.makedirs('models', exist_ok=True)\n",
    "    models_dir = f'models/unet_d{now.day}_h{now.hour}'\n",
    "    os.makedirs(models_dir, exist_ok=False)\n",
    "    \n",
    "    all_iou = dict(zip(label_list, [[] for x in range(len(label_list))]))\n",
    "    all_dice = dict(zip(label_list, [[] for x in range(len(label_list))]))\n",
    "\n",
    "    #for epoch in tqdm(range(n_epochs)):\n",
    "    for epoch in range(n_epochs):\n",
    "        train_loss = epoch_train(train_loader, clf, criterion, opt)\n",
    "        iou_mean, dice_mean = epoch_test(test_loader, clf, criterion, n_classes)\n",
    "        \n",
    "        iou_map = dict(zip(label_list, iou_mean.tolist()))\n",
    "        dice_map = dict(zip(label_list, dice_mean.tolist()))\n",
    "        \n",
    "        #Save model\n",
    "        if (epoch+1) % 10 == 0:\n",
    "            torch.save(clf, os.path.join(models_dir, f'unet_{im_size}_{epoch+1}ep.pth'))\n",
    "        \n",
    "        for label in label_list:\n",
    "            all_iou[label].append(iou_map[label])\n",
    "            all_dice[label].append(dice_map[label])\n",
    "        \n",
    "\n",
    "        print(f'[Epoch {epoch + 1}]')\n",
    "        \n",
    "        print(f'Test iou scores:')\n",
    "        for key, value in iou_map.items():\n",
    "            print (key, \" {:.3f}\".format(value))\n",
    "        print('Test dice scores:')\n",
    "        for key, value in dice_map.items():\n",
    "            print (key, \" {:.3f}\".format(value))\n",
    "            \n",
    "    return all_iou, all_dice"
   ]
  },
  {
   "cell_type": "code",
   "execution_count": 10,
   "id": "385a5615",
   "metadata": {},
   "outputs": [],
   "source": [
    "unet = Unet(1,len(label_list)).to(device)\n",
    "optimizer = torch.optim.Adam(unet.parameters(),lr=0.0003)\n",
    "criterion = torch.nn.CrossEntropyLoss()"
   ]
  },
  {
   "cell_type": "code",
   "execution_count": 12,
   "id": "995d289b",
   "metadata": {
    "scrolled": true
   },
   "outputs": [
    {
     "name": "stderr",
     "output_type": "stream",
     "text": [
      "100%|██████████| 529/529 [06:36<00:00,  1.33it/s]\n",
      "100%|██████████| 28/28 [00:07<00:00,  3.99it/s]\n"
     ]
    },
    {
     "name": "stdout",
     "output_type": "stream",
     "text": [
      "[Epoch 1]\n",
      "Test iou scores:\n",
      "holes  0.639\n",
      "surface  0.938\n",
      "Test dice scores:\n",
      "holes  0.484\n",
      "surface  0.655\n"
     ]
    },
    {
     "name": "stderr",
     "output_type": "stream",
     "text": [
      "100%|██████████| 529/529 [06:36<00:00,  1.34it/s]\n",
      "100%|██████████| 28/28 [00:07<00:00,  3.99it/s]\n"
     ]
    },
    {
     "name": "stdout",
     "output_type": "stream",
     "text": [
      "[Epoch 2]\n",
      "Test iou scores:\n",
      "holes  0.742\n",
      "surface  0.890\n",
      "Test dice scores:\n",
      "holes  0.540\n",
      "surface  0.613\n"
     ]
    },
    {
     "name": "stderr",
     "output_type": "stream",
     "text": [
      "100%|██████████| 529/529 [06:36<00:00,  1.33it/s]\n",
      "100%|██████████| 28/28 [00:06<00:00,  4.02it/s]\n"
     ]
    },
    {
     "name": "stdout",
     "output_type": "stream",
     "text": [
      "[Epoch 3]\n",
      "Test iou scores:\n",
      "holes  0.750\n",
      "surface  0.869\n",
      "Test dice scores:\n",
      "holes  0.544\n",
      "surface  0.598\n"
     ]
    },
    {
     "name": "stderr",
     "output_type": "stream",
     "text": [
      "100%|██████████| 529/529 [06:36<00:00,  1.33it/s]\n",
      "100%|██████████| 28/28 [00:06<00:00,  4.03it/s]\n"
     ]
    },
    {
     "name": "stdout",
     "output_type": "stream",
     "text": [
      "[Epoch 4]\n",
      "Test iou scores:\n",
      "holes  0.732\n",
      "surface  0.871\n",
      "Test dice scores:\n",
      "holes  0.535\n",
      "surface  0.600\n"
     ]
    },
    {
     "name": "stderr",
     "output_type": "stream",
     "text": [
      "100%|██████████| 529/529 [06:36<00:00,  1.33it/s]\n",
      "100%|██████████| 28/28 [00:06<00:00,  4.01it/s]\n"
     ]
    },
    {
     "name": "stdout",
     "output_type": "stream",
     "text": [
      "[Epoch 5]\n",
      "Test iou scores:\n",
      "holes  0.745\n",
      "surface  0.846\n",
      "Test dice scores:\n",
      "holes  0.551\n",
      "surface  0.583\n"
     ]
    },
    {
     "name": "stderr",
     "output_type": "stream",
     "text": [
      "100%|██████████| 529/529 [06:36<00:00,  1.33it/s]\n",
      "100%|██████████| 28/28 [00:06<00:00,  4.02it/s]\n"
     ]
    },
    {
     "name": "stdout",
     "output_type": "stream",
     "text": [
      "[Epoch 6]\n",
      "Test iou scores:\n",
      "holes  0.752\n",
      "surface  0.871\n",
      "Test dice scores:\n",
      "holes  0.526\n",
      "surface  0.594\n"
     ]
    },
    {
     "name": "stderr",
     "output_type": "stream",
     "text": [
      "100%|██████████| 529/529 [06:36<00:00,  1.33it/s]\n",
      "100%|██████████| 28/28 [00:07<00:00,  4.00it/s]\n"
     ]
    },
    {
     "name": "stdout",
     "output_type": "stream",
     "text": [
      "[Epoch 7]\n",
      "Test iou scores:\n",
      "holes  0.733\n",
      "surface  0.866\n",
      "Test dice scores:\n",
      "holes  0.526\n",
      "surface  0.591\n"
     ]
    },
    {
     "name": "stderr",
     "output_type": "stream",
     "text": [
      "100%|██████████| 529/529 [06:36<00:00,  1.33it/s]\n",
      "100%|██████████| 28/28 [00:06<00:00,  4.01it/s]\n"
     ]
    },
    {
     "name": "stdout",
     "output_type": "stream",
     "text": [
      "[Epoch 8]\n",
      "Test iou scores:\n",
      "holes  0.662\n",
      "surface  0.941\n",
      "Test dice scores:\n",
      "holes  0.495\n",
      "surface  0.657\n"
     ]
    },
    {
     "name": "stderr",
     "output_type": "stream",
     "text": [
      "100%|██████████| 529/529 [06:36<00:00,  1.33it/s]\n",
      "100%|██████████| 28/28 [00:06<00:00,  4.01it/s]\n"
     ]
    },
    {
     "name": "stdout",
     "output_type": "stream",
     "text": [
      "[Epoch 9]\n",
      "Test iou scores:\n",
      "holes  0.747\n",
      "surface  0.879\n",
      "Test dice scores:\n",
      "holes  0.541\n",
      "surface  0.607\n"
     ]
    },
    {
     "name": "stderr",
     "output_type": "stream",
     "text": [
      "100%|██████████| 529/529 [06:36<00:00,  1.33it/s]\n",
      "100%|██████████| 28/28 [00:07<00:00,  3.99it/s]\n"
     ]
    },
    {
     "name": "stdout",
     "output_type": "stream",
     "text": [
      "[Epoch 10]\n",
      "Test iou scores:\n",
      "holes  0.717\n",
      "surface  0.909\n",
      "Test dice scores:\n",
      "holes  0.522\n",
      "surface  0.634\n"
     ]
    },
    {
     "name": "stderr",
     "output_type": "stream",
     "text": [
      "100%|██████████| 529/529 [06:36<00:00,  1.33it/s]\n",
      "100%|██████████| 28/28 [00:06<00:00,  4.00it/s]\n"
     ]
    },
    {
     "name": "stdout",
     "output_type": "stream",
     "text": [
      "[Epoch 11]\n",
      "Test iou scores:\n",
      "holes  0.724\n",
      "surface  0.937\n",
      "Test dice scores:\n",
      "holes  0.531\n",
      "surface  0.651\n"
     ]
    },
    {
     "name": "stderr",
     "output_type": "stream",
     "text": [
      "100%|██████████| 529/529 [06:36<00:00,  1.33it/s]\n",
      "100%|██████████| 28/28 [00:07<00:00,  3.99it/s]\n"
     ]
    },
    {
     "name": "stdout",
     "output_type": "stream",
     "text": [
      "[Epoch 12]\n",
      "Test iou scores:\n",
      "holes  0.719\n",
      "surface  0.909\n",
      "Test dice scores:\n",
      "holes  0.518\n",
      "surface  0.634\n"
     ]
    },
    {
     "name": "stderr",
     "output_type": "stream",
     "text": [
      "100%|██████████| 529/529 [06:36<00:00,  1.33it/s]\n",
      "100%|██████████| 28/28 [00:06<00:00,  4.01it/s]\n"
     ]
    },
    {
     "name": "stdout",
     "output_type": "stream",
     "text": [
      "[Epoch 13]\n",
      "Test iou scores:\n",
      "holes  0.754\n",
      "surface  0.872\n",
      "Test dice scores:\n",
      "holes  0.539\n",
      "surface  0.600\n"
     ]
    },
    {
     "name": "stderr",
     "output_type": "stream",
     "text": [
      "100%|██████████| 529/529 [06:36<00:00,  1.33it/s]\n",
      "100%|██████████| 28/28 [00:07<00:00,  3.99it/s]\n"
     ]
    },
    {
     "name": "stdout",
     "output_type": "stream",
     "text": [
      "[Epoch 14]\n",
      "Test iou scores:\n",
      "holes  0.699\n",
      "surface  0.946\n",
      "Test dice scores:\n",
      "holes  0.511\n",
      "surface  0.657\n"
     ]
    },
    {
     "name": "stderr",
     "output_type": "stream",
     "text": [
      "100%|██████████| 529/529 [06:36<00:00,  1.33it/s]\n",
      "100%|██████████| 28/28 [00:07<00:00,  3.99it/s]\n"
     ]
    },
    {
     "name": "stdout",
     "output_type": "stream",
     "text": [
      "[Epoch 15]\n",
      "Test iou scores:\n",
      "holes  0.751\n",
      "surface  0.884\n",
      "Test dice scores:\n",
      "holes  0.540\n",
      "surface  0.610\n"
     ]
    },
    {
     "name": "stderr",
     "output_type": "stream",
     "text": [
      "100%|██████████| 529/529 [06:37<00:00,  1.33it/s]\n",
      "100%|██████████| 28/28 [00:06<00:00,  4.01it/s]\n"
     ]
    },
    {
     "name": "stdout",
     "output_type": "stream",
     "text": [
      "[Epoch 16]\n",
      "Test iou scores:\n",
      "holes  0.760\n",
      "surface  0.883\n",
      "Test dice scores:\n",
      "holes  0.551\n",
      "surface  0.608\n"
     ]
    },
    {
     "name": "stderr",
     "output_type": "stream",
     "text": [
      "100%|██████████| 529/529 [06:37<00:00,  1.33it/s]\n",
      "100%|██████████| 28/28 [00:07<00:00,  3.99it/s]\n"
     ]
    },
    {
     "name": "stdout",
     "output_type": "stream",
     "text": [
      "[Epoch 17]\n",
      "Test iou scores:\n",
      "holes  0.668\n",
      "surface  0.882\n",
      "Test dice scores:\n",
      "holes  0.499\n",
      "surface  0.618\n"
     ]
    },
    {
     "name": "stderr",
     "output_type": "stream",
     "text": [
      "100%|██████████| 529/529 [06:36<00:00,  1.33it/s]\n",
      "100%|██████████| 28/28 [00:07<00:00,  3.98it/s]\n"
     ]
    },
    {
     "name": "stdout",
     "output_type": "stream",
     "text": [
      "[Epoch 18]\n",
      "Test iou scores:\n",
      "holes  0.723\n",
      "surface  0.941\n",
      "Test dice scores:\n",
      "holes  0.525\n",
      "surface  0.652\n"
     ]
    },
    {
     "name": "stderr",
     "output_type": "stream",
     "text": [
      "100%|██████████| 529/529 [06:37<00:00,  1.33it/s]\n",
      "100%|██████████| 28/28 [00:07<00:00,  3.99it/s]\n"
     ]
    },
    {
     "name": "stdout",
     "output_type": "stream",
     "text": [
      "[Epoch 19]\n",
      "Test iou scores:\n",
      "holes  0.738\n",
      "surface  0.902\n",
      "Test dice scores:\n",
      "holes  0.533\n",
      "surface  0.626\n"
     ]
    },
    {
     "name": "stderr",
     "output_type": "stream",
     "text": [
      "100%|██████████| 529/529 [06:36<00:00,  1.33it/s]\n",
      "100%|██████████| 28/28 [00:07<00:00,  3.98it/s]\n"
     ]
    },
    {
     "name": "stdout",
     "output_type": "stream",
     "text": [
      "[Epoch 20]\n",
      "Test iou scores:\n",
      "holes  0.700\n",
      "surface  0.947\n",
      "Test dice scores:\n",
      "holes  0.503\n",
      "surface  0.658\n"
     ]
    },
    {
     "name": "stderr",
     "output_type": "stream",
     "text": [
      "100%|██████████| 529/529 [06:37<00:00,  1.33it/s]\n",
      "100%|██████████| 28/28 [00:06<00:00,  4.00it/s]\n"
     ]
    },
    {
     "name": "stdout",
     "output_type": "stream",
     "text": [
      "[Epoch 21]\n",
      "Test iou scores:\n",
      "holes  0.645\n",
      "surface  0.941\n",
      "Test dice scores:\n",
      "holes  0.485\n",
      "surface  0.657\n"
     ]
    },
    {
     "name": "stderr",
     "output_type": "stream",
     "text": [
      "100%|██████████| 529/529 [06:37<00:00,  1.33it/s]\n",
      "100%|██████████| 28/28 [00:06<00:00,  4.01it/s]\n"
     ]
    },
    {
     "name": "stdout",
     "output_type": "stream",
     "text": [
      "[Epoch 22]\n",
      "Test iou scores:\n",
      "holes  0.726\n",
      "surface  0.953\n",
      "Test dice scores:\n",
      "holes  0.533\n",
      "surface  0.660\n"
     ]
    },
    {
     "name": "stderr",
     "output_type": "stream",
     "text": [
      "100%|██████████| 529/529 [06:37<00:00,  1.33it/s]\n",
      "100%|██████████| 28/28 [00:06<00:00,  4.01it/s]\n"
     ]
    },
    {
     "name": "stdout",
     "output_type": "stream",
     "text": [
      "[Epoch 23]\n",
      "Test iou scores:\n",
      "holes  0.717\n",
      "surface  0.948\n",
      "Test dice scores:\n",
      "holes  0.528\n",
      "surface  0.657\n"
     ]
    },
    {
     "name": "stderr",
     "output_type": "stream",
     "text": [
      "100%|██████████| 529/529 [06:36<00:00,  1.33it/s]\n",
      "100%|██████████| 28/28 [00:06<00:00,  4.00it/s]\n"
     ]
    },
    {
     "name": "stdout",
     "output_type": "stream",
     "text": [
      "[Epoch 24]\n",
      "Test iou scores:\n",
      "holes  0.738\n",
      "surface  0.925\n",
      "Test dice scores:\n",
      "holes  0.538\n",
      "surface  0.642\n"
     ]
    },
    {
     "name": "stderr",
     "output_type": "stream",
     "text": [
      "100%|██████████| 529/529 [06:37<00:00,  1.33it/s]\n",
      "100%|██████████| 28/28 [00:07<00:00,  3.99it/s]\n"
     ]
    },
    {
     "name": "stdout",
     "output_type": "stream",
     "text": [
      "[Epoch 25]\n",
      "Test iou scores:\n",
      "holes  0.745\n",
      "surface  0.880\n",
      "Test dice scores:\n",
      "holes  0.518\n",
      "surface  0.609\n"
     ]
    },
    {
     "name": "stderr",
     "output_type": "stream",
     "text": [
      "100%|██████████| 529/529 [06:37<00:00,  1.33it/s]\n",
      "100%|██████████| 28/28 [00:07<00:00,  3.99it/s]\n"
     ]
    },
    {
     "name": "stdout",
     "output_type": "stream",
     "text": [
      "[Epoch 26]\n",
      "Test iou scores:\n",
      "holes  0.693\n",
      "surface  0.943\n",
      "Test dice scores:\n",
      "holes  0.517\n",
      "surface  0.656\n"
     ]
    },
    {
     "name": "stderr",
     "output_type": "stream",
     "text": [
      "100%|██████████| 529/529 [06:37<00:00,  1.33it/s]\n",
      "100%|██████████| 28/28 [00:07<00:00,  3.98it/s]\n"
     ]
    },
    {
     "name": "stdout",
     "output_type": "stream",
     "text": [
      "[Epoch 27]\n",
      "Test iou scores:\n",
      "holes  0.728\n",
      "surface  0.902\n",
      "Test dice scores:\n",
      "holes  0.529\n",
      "surface  0.626\n"
     ]
    },
    {
     "name": "stderr",
     "output_type": "stream",
     "text": [
      "100%|██████████| 529/529 [06:37<00:00,  1.33it/s]\n",
      "100%|██████████| 28/28 [00:06<00:00,  4.01it/s]\n"
     ]
    },
    {
     "name": "stdout",
     "output_type": "stream",
     "text": [
      "[Epoch 28]\n",
      "Test iou scores:\n",
      "holes  0.747\n",
      "surface  0.871\n",
      "Test dice scores:\n",
      "holes  0.534\n",
      "surface  0.598\n"
     ]
    },
    {
     "name": "stderr",
     "output_type": "stream",
     "text": [
      "100%|██████████| 529/529 [06:37<00:00,  1.33it/s]\n",
      "100%|██████████| 28/28 [00:06<00:00,  4.00it/s]\n"
     ]
    },
    {
     "name": "stdout",
     "output_type": "stream",
     "text": [
      "[Epoch 29]\n",
      "Test iou scores:\n",
      "holes  0.734\n",
      "surface  0.882\n",
      "Test dice scores:\n",
      "holes  0.528\n",
      "surface  0.609\n"
     ]
    },
    {
     "name": "stderr",
     "output_type": "stream",
     "text": [
      "100%|██████████| 529/529 [06:37<00:00,  1.33it/s]\n",
      "100%|██████████| 28/28 [00:07<00:00,  3.99it/s]\n"
     ]
    },
    {
     "name": "stdout",
     "output_type": "stream",
     "text": [
      "[Epoch 30]\n",
      "Test iou scores:\n",
      "holes  0.715\n",
      "surface  0.944\n",
      "Test dice scores:\n",
      "holes  0.536\n",
      "surface  0.655\n"
     ]
    },
    {
     "name": "stderr",
     "output_type": "stream",
     "text": [
      "100%|██████████| 529/529 [06:37<00:00,  1.33it/s]\n",
      "100%|██████████| 28/28 [00:06<00:00,  4.01it/s]\n"
     ]
    },
    {
     "name": "stdout",
     "output_type": "stream",
     "text": [
      "[Epoch 31]\n",
      "Test iou scores:\n",
      "holes  0.751\n",
      "surface  0.887\n",
      "Test dice scores:\n",
      "holes  0.543\n",
      "surface  0.613\n"
     ]
    },
    {
     "name": "stderr",
     "output_type": "stream",
     "text": [
      "100%|██████████| 529/529 [06:37<00:00,  1.33it/s]\n",
      "100%|██████████| 28/28 [00:06<00:00,  4.01it/s]\n"
     ]
    },
    {
     "name": "stdout",
     "output_type": "stream",
     "text": [
      "[Epoch 32]\n",
      "Test iou scores:\n",
      "holes  0.708\n",
      "surface  0.939\n",
      "Test dice scores:\n",
      "holes  0.507\n",
      "surface  0.653\n"
     ]
    },
    {
     "name": "stderr",
     "output_type": "stream",
     "text": [
      "100%|██████████| 529/529 [06:37<00:00,  1.33it/s]\n",
      "100%|██████████| 28/28 [00:07<00:00,  3.99it/s]\n"
     ]
    },
    {
     "name": "stdout",
     "output_type": "stream",
     "text": [
      "[Epoch 33]\n",
      "Test iou scores:\n",
      "holes  0.735\n",
      "surface  0.878\n",
      "Test dice scores:\n",
      "holes  0.528\n",
      "surface  0.604\n"
     ]
    },
    {
     "name": "stderr",
     "output_type": "stream",
     "text": [
      "100%|██████████| 529/529 [06:37<00:00,  1.33it/s]\n",
      "100%|██████████| 28/28 [00:07<00:00,  4.00it/s]\n"
     ]
    },
    {
     "name": "stdout",
     "output_type": "stream",
     "text": [
      "[Epoch 34]\n",
      "Test iou scores:\n",
      "holes  0.668\n",
      "surface  0.911\n",
      "Test dice scores:\n",
      "holes  0.498\n",
      "surface  0.635\n"
     ]
    },
    {
     "name": "stderr",
     "output_type": "stream",
     "text": [
      "100%|██████████| 529/529 [06:37<00:00,  1.33it/s]\n",
      "100%|██████████| 28/28 [00:06<00:00,  4.00it/s]\n"
     ]
    },
    {
     "name": "stdout",
     "output_type": "stream",
     "text": [
      "[Epoch 35]\n",
      "Test iou scores:\n",
      "holes  0.711\n",
      "surface  0.885\n",
      "Test dice scores:\n",
      "holes  0.527\n",
      "surface  0.616\n"
     ]
    },
    {
     "name": "stderr",
     "output_type": "stream",
     "text": [
      "100%|██████████| 529/529 [06:37<00:00,  1.33it/s]\n",
      "100%|██████████| 28/28 [00:07<00:00,  4.00it/s]\n"
     ]
    },
    {
     "name": "stdout",
     "output_type": "stream",
     "text": [
      "[Epoch 36]\n",
      "Test iou scores:\n",
      "holes  0.738\n",
      "surface  0.886\n",
      "Test dice scores:\n",
      "holes  0.526\n",
      "surface  0.614\n"
     ]
    },
    {
     "name": "stderr",
     "output_type": "stream",
     "text": [
      "100%|██████████| 529/529 [06:37<00:00,  1.33it/s]\n",
      "100%|██████████| 28/28 [00:06<00:00,  4.02it/s]\n"
     ]
    },
    {
     "name": "stdout",
     "output_type": "stream",
     "text": [
      "[Epoch 37]\n",
      "Test iou scores:\n",
      "holes  0.688\n",
      "surface  0.949\n",
      "Test dice scores:\n",
      "holes  0.517\n",
      "surface  0.659\n"
     ]
    },
    {
     "name": "stderr",
     "output_type": "stream",
     "text": [
      "100%|██████████| 529/529 [06:37<00:00,  1.33it/s]\n",
      "100%|██████████| 28/28 [00:07<00:00,  3.98it/s]\n"
     ]
    },
    {
     "name": "stdout",
     "output_type": "stream",
     "text": [
      "[Epoch 38]\n",
      "Test iou scores:\n",
      "holes  0.709\n",
      "surface  0.916\n",
      "Test dice scores:\n",
      "holes  0.512\n",
      "surface  0.641\n"
     ]
    },
    {
     "name": "stderr",
     "output_type": "stream",
     "text": [
      "100%|██████████| 529/529 [06:37<00:00,  1.33it/s]\n",
      "100%|██████████| 28/28 [00:06<00:00,  4.01it/s]\n"
     ]
    },
    {
     "name": "stdout",
     "output_type": "stream",
     "text": [
      "[Epoch 39]\n",
      "Test iou scores:\n",
      "holes  0.663\n",
      "surface  0.910\n",
      "Test dice scores:\n",
      "holes  0.497\n",
      "surface  0.639\n"
     ]
    },
    {
     "name": "stderr",
     "output_type": "stream",
     "text": [
      "100%|██████████| 529/529 [06:37<00:00,  1.33it/s]\n",
      "100%|██████████| 28/28 [00:06<00:00,  4.01it/s]"
     ]
    },
    {
     "name": "stdout",
     "output_type": "stream",
     "text": [
      "[Epoch 40]\n",
      "Test iou scores:\n",
      "holes  0.734\n",
      "surface  0.905\n",
      "Test dice scores:\n",
      "holes  0.534\n",
      "surface  0.629\n"
     ]
    },
    {
     "name": "stderr",
     "output_type": "stream",
     "text": [
      "\n"
     ]
    }
   ],
   "source": [
    "#train unet\n",
    "# 50 ep\n",
    "all_iou, all_dice = train(train_loader, test_loader,unet, len(label_list), criterion,optimizer,n_epochs=40)"
   ]
  },
  {
   "cell_type": "code",
   "execution_count": 13,
   "id": "6e45ac0e",
   "metadata": {},
   "outputs": [],
   "source": [
    "now = datetime.datetime.now()\n",
    "\n",
    "\n",
    "os.makedirs('logs', exist_ok=True)\n",
    "log_dir = f'logs/unet_d{now.day}_h{now.hour}'\n",
    "os.makedirs(log_dir, exist_ok=False)\n",
    "\n",
    "\n",
    "\n",
    "all_iou_file = os.path.join(log_dir,'all_iou.pkl')\n",
    "with open(all_iou_file, 'wb') as f:\n",
    "    pickle.dump(all_iou, f)\n",
    "    \n",
    "all_dice_file = os.path.join(log_dir,'all_dice.pkl')\n",
    "with open(all_dice_file, 'wb') as f:\n",
    "    pickle.dump(all_dice, f)"
   ]
  },
  {
   "cell_type": "code",
   "execution_count": 27,
   "id": "28cb9935",
   "metadata": {},
   "outputs": [
    {
     "data": {
      "text/plain": [
       "{'holes': [0.4890190064907074,\n",
       "  0.4760792553424835,\n",
       "  0.4574418067932129,\n",
       "  0.4810224175453186,\n",
       "  0.48831576108932495,\n",
       "  0.46834641695022583,\n",
       "  0.49116116762161255,\n",
       "  0.48305726051330566,\n",
       "  0.493852436542511,\n",
       "  0.4907653331756592,\n",
       "  0.4473343789577484,\n",
       "  0.49494147300720215,\n",
       "  0.4946599006652832,\n",
       "  0.5115771293640137,\n",
       "  0.481015145778656,\n",
       "  0.4981997609138489,\n",
       "  0.49096137285232544,\n",
       "  0.5091121196746826,\n",
       "  0.48754385113716125,\n",
       "  0.5077356100082397,\n",
       "  0.4886417090892792,\n",
       "  0.5117125511169434,\n",
       "  0.5088229179382324,\n",
       "  0.4902830719947815,\n",
       "  0.5093362927436829,\n",
       "  0.4895245432853699,\n",
       "  0.5085200071334839,\n",
       "  0.500783383846283,\n",
       "  0.4925021529197693,\n",
       "  0.48540666699409485,\n",
       "  0.48011165857315063,\n",
       "  0.4875071346759796,\n",
       "  0.4752242863178253,\n",
       "  0.4932697117328644,\n",
       "  0.49447956681251526,\n",
       "  0.4935426712036133,\n",
       "  0.5064312815666199,\n",
       "  0.5056097507476807,\n",
       "  0.5147325396537781,\n",
       "  0.48108744621276855,\n",
       "  0.5016077160835266,\n",
       "  0.5109766125679016,\n",
       "  0.49844151735305786,\n",
       "  0.4767870604991913,\n",
       "  0.4942763149738312,\n",
       "  0.4806443154811859,\n",
       "  0.46596646308898926,\n",
       "  0.5029322504997253,\n",
       "  0.5071576237678528,\n",
       "  0.4928351938724518],\n",
       " 'surface': [0.5715190172195435,\n",
       "  0.5810571908950806,\n",
       "  0.5608954429626465,\n",
       "  0.5343837141990662,\n",
       "  0.5554499626159668,\n",
       "  0.5786520838737488,\n",
       "  0.5625386238098145,\n",
       "  0.5548791289329529,\n",
       "  0.548672616481781,\n",
       "  0.5606008768081665,\n",
       "  0.5696631073951721,\n",
       "  0.5676820278167725,\n",
       "  0.559090793132782,\n",
       "  0.5909422039985657,\n",
       "  0.5466693639755249,\n",
       "  0.5464200377464294,\n",
       "  0.5580011606216431,\n",
       "  0.5623360872268677,\n",
       "  0.5620629787445068,\n",
       "  0.5596796870231628,\n",
       "  0.5648247003555298,\n",
       "  0.563112735748291,\n",
       "  0.5591105818748474,\n",
       "  0.5684202313423157,\n",
       "  0.56531822681427,\n",
       "  0.5578848123550415,\n",
       "  0.5558388233184814,\n",
       "  0.5675931572914124,\n",
       "  0.5268797278404236,\n",
       "  0.5517240762710571,\n",
       "  0.5565721988677979,\n",
       "  0.558007538318634,\n",
       "  0.563176691532135,\n",
       "  0.553957998752594,\n",
       "  0.5522654056549072,\n",
       "  0.5589529871940613,\n",
       "  0.5547909140586853,\n",
       "  0.5582972168922424,\n",
       "  0.5225096344947815,\n",
       "  0.567834734916687,\n",
       "  0.5668825507164001,\n",
       "  0.5626955628395081,\n",
       "  0.5468273162841797,\n",
       "  0.5580458641052246,\n",
       "  0.5540077090263367,\n",
       "  0.5594787001609802,\n",
       "  0.5429911017417908,\n",
       "  0.5277103781700134,\n",
       "  0.5450295805931091,\n",
       "  0.5607737302780151]}"
      ]
     },
     "execution_count": 27,
     "metadata": {},
     "output_type": "execute_result"
    }
   ],
   "source": [
    "with open(all_dice_file, 'rb') as f:\n",
    "    data = pickle.load(f)\n",
    "\n",
    "data"
   ]
  },
  {
   "cell_type": "code",
   "execution_count": 1,
   "id": "ba4c925e",
   "metadata": {},
   "outputs": [
    {
     "ename": "NameError",
     "evalue": "name 'test_loader' is not defined",
     "output_type": "error",
     "traceback": [
      "\u001b[0;31m---------------------------------------------------------------------------\u001b[0m",
      "\u001b[0;31mNameError\u001b[0m                                 Traceback (most recent call last)",
      "Cell \u001b[0;32mIn[1], line 31\u001b[0m\n\u001b[1;32m     29\u001b[0m     ax[\u001b[38;5;241m2\u001b[39m]\u001b[38;5;241m.\u001b[39mimshow(preds\u001b[38;5;241m.\u001b[39mpermute(\u001b[38;5;241m1\u001b[39m,\u001b[38;5;241m2\u001b[39m,\u001b[38;5;241m0\u001b[39m))\n\u001b[1;32m     30\u001b[0m     fig\u001b[38;5;241m.\u001b[39msuptitle(title)\n\u001b[0;32m---> 31\u001b[0m plot_model_output(\u001b[43mtest_loader\u001b[49m,\u001b[38;5;241m1\u001b[39m,unet,\u001b[38;5;124m'\u001b[39m\u001b[38;5;124m'\u001b[39m)\n",
      "\u001b[0;31mNameError\u001b[0m: name 'test_loader' is not defined"
     ]
    }
   ],
   "source": [
    "def plot_model_output(loader,ind,model,title=None, n_classes=2):\n",
    "    size = 3\n",
    "    dataset = loader.dataset\n",
    "    fig, ax = plt.subplots(1,3,figsize=(size*3,size))\n",
    "    ax[0].axis('off')\n",
    "    ax[1].axis('off')\n",
    "\n",
    "    data = dataset[ind]\n",
    "    img = data[0][:,:,:]\n",
    "    mask = data[1][:,:,:]\n",
    "    out = (model(img[None,:].to(device)).to('cpu')).view(n_classes,*im_size)\n",
    "    \n",
    "    iou, dice = iou_dice_score(out[None,:],mask[None,:],n_classes)\n",
    "    \n",
    "    iou_mean = iou.mean()\n",
    "    dice_mean = dice.mean()\n",
    "    \n",
    "    ax[0].set_title(f'original image ', fontsize = 8)\n",
    "    ax[1].set_title(f'label', fontsize = 8)\n",
    "    ax[2].set_title(f'output, iou mean: {iou_mean:.3f}, dice mean: {dice_mean:.3f}', fontsize = 8)\n",
    "    ax[0].imshow(img.permute(1,2,0))\n",
    "    \n",
    "    mask = torch.argmax(mask, dim=0)[None,:,:]\n",
    "    ax[1].imshow(mask.permute(1,2,0))\n",
    "    \n",
    "    preds = out.detach()\n",
    "    preds = torch.argmax(preds, dim=0)[None,:,:]\n",
    "    \n",
    "    ax[2].imshow(preds.permute(1,2,0))\n",
    "    fig.suptitle(title)\n",
    "plot_model_output(test_loader,1,unet,'')"
   ]
  },
  {
   "cell_type": "code",
   "execution_count": null,
   "id": "70de0168",
   "metadata": {},
   "outputs": [],
   "source": []
  }
 ],
 "metadata": {
  "kernelspec": {
   "display_name": "Python 3.8.10 64-bit",
   "language": "python",
   "name": "python3"
  },
  "language_info": {
   "codemirror_mode": {
    "name": "ipython",
    "version": 3
   },
   "file_extension": ".py",
   "mimetype": "text/x-python",
   "name": "python",
   "nbconvert_exporter": "python",
   "pygments_lexer": "ipython3",
   "version": "3.8.10"
  },
  "vscode": {
   "interpreter": {
    "hash": "767d51c1340bd893661ea55ea3124f6de3c7a262a8b4abca0554b478b1e2ff90"
   }
  }
 },
 "nbformat": 4,
 "nbformat_minor": 5
}
